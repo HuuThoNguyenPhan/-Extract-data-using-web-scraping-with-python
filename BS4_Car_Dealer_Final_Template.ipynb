{
 "cells": [
  {
   "cell_type": "markdown",
   "metadata": {},
   "source": [
    "### Imports"
   ]
  },
  {
   "cell_type": "code",
   "execution_count": 1,
   "metadata": {},
   "outputs": [],
   "source": [
    "from bs4 import BeautifulSoup\n",
    "import requests\n",
    "import pandas as pd \n",
    "import openpyxl"
   ]
  },
  {
   "cell_type": "code",
   "execution_count": null,
   "metadata": {},
   "outputs": [],
   "source": []
  },
  {
   "cell_type": "markdown",
   "metadata": {},
   "source": [
    "### HTTP Request"
   ]
  },
  {
   "cell_type": "markdown",
   "metadata": {},
   "source": [
    "#### Lưu trữ đường dẫn website  "
   ]
  },
  {
   "cell_type": "code",
   "execution_count": 2,
   "metadata": {},
   "outputs": [],
   "source": [
    "website = 'https://otoviethan.com.vn/tat-ca-san-pham#'"
   ]
  },
  {
   "cell_type": "markdown",
   "metadata": {},
   "source": [
    "#### Get Request"
   ]
  },
  {
   "cell_type": "code",
   "execution_count": 3,
   "metadata": {},
   "outputs": [],
   "source": [
    "response_home = requests.get(website)"
   ]
  },
  {
   "cell_type": "markdown",
   "metadata": {},
   "source": [
    "#### Trạng thái kết nối "
   ]
  },
  {
   "cell_type": "code",
   "execution_count": 4,
   "metadata": {},
   "outputs": [
    {
     "data": {
      "text/plain": [
       "200"
      ]
     },
     "execution_count": 4,
     "metadata": {},
     "output_type": "execute_result"
    }
   ],
   "source": [
    "response_home.status_code"
   ]
  },
  {
   "cell_type": "markdown",
   "metadata": {},
   "source": [
    "### Soup Object"
   ]
  },
  {
   "cell_type": "code",
   "execution_count": 5,
   "metadata": {},
   "outputs": [],
   "source": [
    "soup = BeautifulSoup(response_home.content, 'html.parser')"
   ]
  },
  {
   "cell_type": "markdown",
   "metadata": {},
   "source": [
    "### Các kết quả "
   ]
  },
  {
   "cell_type": "code",
   "execution_count": 6,
   "metadata": {},
   "outputs": [],
   "source": [
    "results = soup.find_all('div', {'class' : 'item-product publish'})"
   ]
  },
  {
   "cell_type": "markdown",
   "metadata": {},
   "source": [
    "#### Số lượng các đối tượng trả về"
   ]
  },
  {
   "cell_type": "code",
   "execution_count": 7,
   "metadata": {},
   "outputs": [
    {
     "data": {
      "text/plain": [
       "37"
      ]
     },
     "execution_count": 7,
     "metadata": {},
     "output_type": "execute_result"
    }
   ],
   "source": [
    "len(results)"
   ]
  },
  {
   "cell_type": "markdown",
   "metadata": {},
   "source": [
    "### Các dữ liệu cần lấy"
   ]
  },
  {
   "cell_type": "markdown",
   "metadata": {},
   "source": [
    "##### - Mã xe\n",
    "##### - Tên xe\n",
    "##### - Tính trạng\n",
    "##### - Năm sản xuất\n",
    "##### - Xuất xứ\n",
    "##### - Màu xe\n",
    "##### - Màu nội thất\n",
    "##### - Giá xe\n",
    "##### - Đường dẫn ảnh"
   ]
  },
  {
   "cell_type": "markdown",
   "metadata": {},
   "source": [
    "### Chi tiết sản phẩm"
   ]
  },
  {
   "cell_type": "markdown",
   "metadata": {},
   "source": [
    "#### Đường dẫn sản phẩm"
   ]
  },
  {
   "cell_type": "code",
   "execution_count": 9,
   "metadata": {},
   "outputs": [
    {
     "name": "stdout",
     "output_type": "stream",
     "text": [
      "https://otoviethan.com.vn/mazda-cx5-2-0-at-2wd-2015\n"
     ]
    }
   ],
   "source": [
    "url_pr = results[1].find('a', {'class':'title-prod'}).get('href')\n",
    "print(url_pr)\n"
   ]
  },
  {
   "cell_type": "markdown",
   "metadata": {},
   "source": [
    "#### Get Request"
   ]
  },
  {
   "cell_type": "code",
   "execution_count": 10,
   "metadata": {},
   "outputs": [],
   "source": [
    "response_product = requests.get(url_pr)"
   ]
  },
  {
   "cell_type": "markdown",
   "metadata": {},
   "source": [
    "#### Status Code"
   ]
  },
  {
   "cell_type": "code",
   "execution_count": 11,
   "metadata": {},
   "outputs": [
    {
     "data": {
      "text/plain": [
       "200"
      ]
     },
     "execution_count": 11,
     "metadata": {},
     "output_type": "execute_result"
    }
   ],
   "source": [
    "response_product.status_code"
   ]
  },
  {
   "cell_type": "markdown",
   "metadata": {},
   "source": [
    "### Soup Object"
   ]
  },
  {
   "cell_type": "code",
   "execution_count": 12,
   "metadata": {},
   "outputs": [],
   "source": [
    "soup_product = BeautifulSoup(response_product.content, 'html.parser')"
   ]
  },
  {
   "cell_type": "markdown",
   "metadata": {},
   "source": [
    "### Results"
   ]
  },
  {
   "cell_type": "code",
   "execution_count": 13,
   "metadata": {},
   "outputs": [
    {
     "data": {
      "text/plain": [
       "[<ul class=\"list-info clearfix\">\n",
       " <li><span>Tình trạng xe</span>\n",
       " <span><strong>\n",
       "                       Xe đã qua sử dụng\n",
       "                   </strong></span>\n",
       " </li>\n",
       " <li><span>Hãng sản xuất</span> <span> <strong>\n",
       "                                               Mazda\n",
       "                     </strong></span>\n",
       " </li>\n",
       " <li><span>Dòng xe</span> <span><strong>\n",
       "                                           Mazda CX5\n",
       "                     </strong></span></li>\n",
       " <li><span>Năm sản xuất</span> <span><strong>\n",
       "                       2015\n",
       "                     </strong></span></li>\n",
       " <li><span>Xuất xứ</span> <span><strong>\n",
       "                       Lắp ráp trong nước\n",
       "                     </strong></span></li>\n",
       " <li><span>Màu xe</span> <span><strong>\n",
       "                       Trắng\n",
       "                     </strong></span></li>\n",
       " <li><span>Màu nội thất</span> <span><strong>\n",
       "                       Đen</strong></span>\n",
       " </li>\n",
       " <li><span>Biển số</span> <span><strong>\n",
       "                                             Hồ Chí Minh\n",
       "                     </strong></span></li>\n",
       " <li><span>Đăng ký lần đầu</span> <span><strong>\n",
       "                       02/12/2015</strong></span>\n",
       " </li>\n",
       " <li><span>Sở hữu</span> <span><strong>\n",
       "                       Tư nhân</strong></span>\n",
       " </li>\n",
       " </ul>,\n",
       " <ul class=\"list-info clearfix\">\n",
       " <li><span>Dung tích</span> <span><strong>\n",
       "                       1998 (cm³)\n",
       "                     </strong></span></li>\n",
       " <li><span>Số Km</span> <span><strong>\n",
       "                       72.000\n",
       "                     </strong></span></li>\n",
       " <li><span>Số chổ ngồi</span> <span><strong>\n",
       "                      5\n",
       "                     </strong></span></li>\n",
       " <li><span>Số cửa</span> <span><strong>\n",
       "                       5\n",
       "                     </strong></span></li>\n",
       " <li><span>Dẫn động</span> <span><strong>\n",
       "                       Cầu trước\n",
       "                     </strong></span></li>\n",
       " <li><span>Hộp số</span> <span><strong>\n",
       "                      Tự động\n",
       "                     </strong></span></li>\n",
       " <li><span>Công suất</span> <span><strong>\n",
       "                       114 (KW)\n",
       "                     </strong></span></li>\n",
       " <li><span>Nhiên liệu</span> <span><strong>\n",
       "                      Xăng\n",
       "                     </strong></span></li>\n",
       " <li><span>Kích thước xe</span> <span><strong>\n",
       "                       4540x1840x1670\n",
       "                     </strong></span></li>\n",
       " <li><span>Kích thước lốp</span> <span><strong>\n",
       "                       225/55R19\n",
       "                     </strong></span></li>\n",
       " </ul>]"
      ]
     },
     "execution_count": 13,
     "metadata": {},
     "output_type": "execute_result"
    }
   ],
   "source": [
    "result_product = soup_product.find_all('ul', {'class' : 'list-info clearfix'})\n",
    "result_product "
   ]
  },
  {
   "cell_type": "markdown",
   "metadata": {},
   "source": [
    "### Kết quả thông tin sản phẩm\n"
   ]
  },
  {
   "cell_type": "markdown",
   "metadata": {},
   "source": [
    "#### Link ảnh"
   ]
  },
  {
   "cell_type": "code",
   "execution_count": 15,
   "metadata": {},
   "outputs": [
    {
     "name": "stdout",
     "output_type": "stream",
     "text": [
      "https://otoviethan.com.vn/uploads/img_3123_1_(copy)_1663402453.jpg\n"
     ]
    }
   ],
   "source": [
    "results[0]\n",
    "url_img = results[0].find('img', {'class' : 'lazyload'})['data-src']\n",
    "print(url_img)"
   ]
  },
  {
   "cell_type": "markdown",
   "metadata": {},
   "source": [
    "#### Mã sản phẩm"
   ]
  },
  {
   "cell_type": "code",
   "execution_count": 16,
   "metadata": {},
   "outputs": [
    {
     "name": "stdout",
     "output_type": "stream",
     "text": [
      "1515\n"
     ]
    }
   ],
   "source": [
    "print(soup_product.find('p', {'class' : 'code-prod-detail'}).get_text().replace('Mã sản phẩm: ',''))"
   ]
  },
  {
   "cell_type": "markdown",
   "metadata": {},
   "source": [
    "#### Tên xe"
   ]
  },
  {
   "cell_type": "code",
   "execution_count": 17,
   "metadata": {},
   "outputs": [
    {
     "name": "stdout",
     "output_type": "stream",
     "text": [
      "Mazda CX5 2.0 AT 2WD 2015 \n",
      "                  \n"
     ]
    }
   ],
   "source": [
    "print(soup_product.find('h1', {'class' : 'title-prod-detail'}).get_text().replace('  ',' '))"
   ]
  },
  {
   "cell_type": "markdown",
   "metadata": {},
   "source": [
    "#### Giá"
   ]
  },
  {
   "cell_type": "code",
   "execution_count": 18,
   "metadata": {},
   "outputs": [
    {
     "name": "stdout",
     "output_type": "stream",
     "text": [
      "566 triệu\n"
     ]
    }
   ],
   "source": [
    "print(soup_product.find('div', {'class' : 'price-prod-detail'}).get_text())"
   ]
  },
  {
   "cell_type": "markdown",
   "metadata": {},
   "source": [
    "#### Hãng xe"
   ]
  },
  {
   "cell_type": "code",
   "execution_count": 19,
   "metadata": {},
   "outputs": [
    {
     "name": "stdout",
     "output_type": "stream",
     "text": [
      "Mazda\n"
     ]
    }
   ],
   "source": [
    "for i in range(len(result_product[0].find_all('strong'))):\n",
    "    if i == 1:  \n",
    "        print(result_product[0].find_all('strong')[i].text.strip())"
   ]
  },
  {
   "cell_type": "markdown",
   "metadata": {},
   "source": [
    "#### Tình trạng xe"
   ]
  },
  {
   "cell_type": "code",
   "execution_count": 20,
   "metadata": {},
   "outputs": [
    {
     "name": "stdout",
     "output_type": "stream",
     "text": [
      "Xe đã qua sử dụng\n"
     ]
    }
   ],
   "source": [
    "for i in range(len(result_product[0].find_all('strong'))):\n",
    "    if i == 0:  \n",
    "        print(result_product[0].find_all('strong')[i].text.strip())\n"
   ]
  },
  {
   "cell_type": "markdown",
   "metadata": {},
   "source": [
    "#### Năm sản xuất"
   ]
  },
  {
   "cell_type": "code",
   "execution_count": 21,
   "metadata": {},
   "outputs": [
    {
     "name": "stdout",
     "output_type": "stream",
     "text": [
      "2015\n"
     ]
    }
   ],
   "source": [
    "for i in range(len(result_product[0].find_all('strong'))):\n",
    "    if i == 3:  \n",
    "        print(result_product[0].find_all('strong')[i].text.strip())"
   ]
  },
  {
   "cell_type": "markdown",
   "metadata": {},
   "source": [
    "#### Xuất xứ"
   ]
  },
  {
   "cell_type": "code",
   "execution_count": 22,
   "metadata": {},
   "outputs": [],
   "source": [
    "for i in range(len(results[0].find_all('strong'))):\n",
    "    if i == 4:  \n",
    "        print(results[0].find_all('strong')[i].text.strip())"
   ]
  },
  {
   "cell_type": "markdown",
   "metadata": {},
   "source": [
    "#### Màu xe"
   ]
  },
  {
   "cell_type": "code",
   "execution_count": 23,
   "metadata": {},
   "outputs": [
    {
     "name": "stdout",
     "output_type": "stream",
     "text": [
      "Trắng\n"
     ]
    }
   ],
   "source": [
    "for i in range(len(result_product[0].find_all('strong'))):\n",
    "    if i == 5:  \n",
    "        print(result_product[0].find_all('strong')[i].text.strip())"
   ]
  },
  {
   "cell_type": "markdown",
   "metadata": {},
   "source": [
    "#### Màu nội thất"
   ]
  },
  {
   "cell_type": "code",
   "execution_count": 24,
   "metadata": {},
   "outputs": [
    {
     "name": "stdout",
     "output_type": "stream",
     "text": [
      "Đen\n"
     ]
    }
   ],
   "source": [
    "for i in range(len(result_product[0].find_all('strong'))):\n",
    "    if i == 6:  \n",
    "        print(result_product[0].find_all('strong')[i].text.strip())"
   ]
  },
  {
   "cell_type": "markdown",
   "metadata": {},
   "source": [
    "### Lấy dữ liệu toàn bộ sản phẩm"
   ]
  },
  {
   "cell_type": "code",
   "execution_count": 25,
   "metadata": {},
   "outputs": [],
   "source": [
    "\n",
    "ten_xe = []\n",
    "ma_xe = []\n",
    "hang_xe = []\n",
    "tinh_trang = []\n",
    "nsx = []\n",
    "mau_nt = []\n",
    "mau_xe = []\n",
    "gia = []\n",
    "img = []\n",
    "for result in results:\n",
    "    url_pr = result.find('a', {'class':'title-prod'}).get('href')\n",
    "    response_product = requests.get(url_pr)\n",
    "    soup_product = BeautifulSoup(response_product.content, 'html.parser')\n",
    "\n",
    "    # Lấy link ảnh \n",
    "    try:\n",
    "        img.append(results[0].find('img', {'class' : 'lazyload'})['data-src'])\n",
    "    except:\n",
    "        img.append('n/a')\n",
    "\n",
    "    # Lấy mã xe\n",
    "    try:\n",
    "        ma_xe.append(soup_product.find('p', {'class' : 'code-prod-detail'}).get_text().replace('Mã sản phẩm: ',''))\n",
    "    except:\n",
    "        ma_xe.append('n/a')\n",
    "    \n",
    "    # Lấy tên xe\n",
    "    try: \n",
    "        ten_xe.append(soup_product.find('h1', {'class' : 'title-prod-detail'}).get_text().replace('  ',' '))\n",
    "    except:\n",
    "        ten_xe.append('n/a')\n",
    "    \n",
    "    result_product = soup_product.find_all('ul', {'class' : 'list-info clearfix'})\n",
    "    \n",
    "    # Lấy giá\n",
    "    try:\n",
    "        gia.append(soup_product.find('div', {'class' : 'price-prod-detail'}).get_text())\n",
    "    except:\n",
    "        gia.append('n/a')\n",
    "\n",
    "    # Lấy hãng xe\n",
    "    try:\n",
    "        for i in range(len(result_product[0].find_all('strong'))):\n",
    "            if i == 1:  \n",
    "                hang_xe.append(result_product[0].find_all('strong')[i].text.strip())\n",
    "    except:\n",
    "        hang_xe.append('n/a')\n",
    "\n",
    "    # Tình trạng xe\n",
    "    try:\n",
    "        for i in range(len(result_product[0].find_all('strong'))):\n",
    "            if i == 0:  \n",
    "                tinh_trang.append(result_product[0].find_all('strong')[i].text.strip())\n",
    "    except:\n",
    "        tinh_trang.append('n/a')\n",
    "    \n",
    "    # Năm sản xuất\n",
    "    try:\n",
    "        for i in range(len(result_product[0].find_all('strong'))):\n",
    "            if i == 3:  \n",
    "                nsx.append(result_product[0].find_all('strong')[i].text.strip())\n",
    "    except:\n",
    "        nsx.append('n/a')\n",
    "\n",
    "    # Màu xe\n",
    "    try:\n",
    "        for i in range(len(result_product[0].find_all('strong'))):\n",
    "            if i == 5:  \n",
    "                mau_xe.append(result_product[0].find_all('strong')[i].text.strip())\n",
    "    except:\n",
    "        mau_xe.append('n/a')\n",
    "    \n",
    "    # Màu nội thất\n",
    "    try:\n",
    "        for i in range(len(result_product[0].find_all('strong'))):\n",
    "            if i == 6:  \n",
    "                mau_nt.append(result_product[0].find_all('strong')[i].text.strip())\n",
    "    except:\n",
    "        mau_nt.append('n/a')\n"
   ]
  },
  {
   "cell_type": "markdown",
   "metadata": {},
   "source": [
    "### Tạo bảng dữ liệu"
   ]
  },
  {
   "cell_type": "code",
   "execution_count": 34,
   "metadata": {},
   "outputs": [],
   "source": [
    "# dictionary\n",
    "car_dealer = pd.DataFrame({'Mã xe': ma_xe,'Tên xe': ten_xe, 'Giá': gia, 'Hãng xe' : hang_xe,'Năm sản xuất': nsx, \n",
    "                            'Màu xe': mau_xe, 'Màu nội thất': mau_nt, 'Tình trạng' : tinh_trang, 'Ảnh' : img})"
   ]
  },
  {
   "cell_type": "code",
   "execution_count": 35,
   "metadata": {},
   "outputs": [
    {
     "data": {
      "text/html": [
       "<div>\n",
       "<style scoped>\n",
       "    .dataframe tbody tr th:only-of-type {\n",
       "        vertical-align: middle;\n",
       "    }\n",
       "\n",
       "    .dataframe tbody tr th {\n",
       "        vertical-align: top;\n",
       "    }\n",
       "\n",
       "    .dataframe thead th {\n",
       "        text-align: right;\n",
       "    }\n",
       "</style>\n",
       "<table border=\"1\" class=\"dataframe\">\n",
       "  <thead>\n",
       "    <tr style=\"text-align: right;\">\n",
       "      <th></th>\n",
       "      <th>Mã xe</th>\n",
       "      <th>Tên xe</th>\n",
       "      <th>Giá</th>\n",
       "      <th>Hãng xe</th>\n",
       "      <th>Năm sản xuất</th>\n",
       "      <th>Màu xe</th>\n",
       "      <th>Màu nội thất</th>\n",
       "      <th>Tình trạng</th>\n",
       "      <th>Ảnh</th>\n",
       "    </tr>\n",
       "  </thead>\n",
       "  <tbody>\n",
       "    <tr>\n",
       "      <th>0</th>\n",
       "      <td>1516</td>\n",
       "      <td>Hyundai Santa Fe 2.4 AT 2021 \\n</td>\n",
       "      <td>1.166 triệu</td>\n",
       "      <td>Hyundai</td>\n",
       "      <td>2021</td>\n",
       "      <td>Đen</td>\n",
       "      <td>Đen</td>\n",
       "      <td>Xe đã qua sử dụng</td>\n",
       "      <td>https://otoviethan.com.vn/uploads/img_3123_1_(...</td>\n",
       "    </tr>\n",
       "    <tr>\n",
       "      <th>1</th>\n",
       "      <td>1515</td>\n",
       "      <td>Mazda CX5 2.0 AT 2WD 2015 \\n</td>\n",
       "      <td>566 triệu</td>\n",
       "      <td>Mazda</td>\n",
       "      <td>2015</td>\n",
       "      <td>Trắng</td>\n",
       "      <td>Đen</td>\n",
       "      <td>Xe đã qua sử dụng</td>\n",
       "      <td>https://otoviethan.com.vn/uploads/img_3123_1_(...</td>\n",
       "    </tr>\n",
       "    <tr>\n",
       "      <th>2</th>\n",
       "      <td>1514</td>\n",
       "      <td>Kia Soluto 1.4 MT bản Full 2019 \\n            ...</td>\n",
       "      <td>366 triệu</td>\n",
       "      <td>Kia</td>\n",
       "      <td>2019</td>\n",
       "      <td>Xanh</td>\n",
       "      <td>Trắng</td>\n",
       "      <td>Xe đã qua sử dụng</td>\n",
       "      <td>https://otoviethan.com.vn/uploads/img_3123_1_(...</td>\n",
       "    </tr>\n",
       "    <tr>\n",
       "      <th>3</th>\n",
       "      <td>1513</td>\n",
       "      <td>Hyundai Accent 1.4 MT Full 2021 \\n            ...</td>\n",
       "      <td>468 triệu</td>\n",
       "      <td>Hyundai</td>\n",
       "      <td>2021</td>\n",
       "      <td>Đen</td>\n",
       "      <td>Trắng</td>\n",
       "      <td>Xe đã qua sử dụng</td>\n",
       "      <td>https://otoviethan.com.vn/uploads/img_3123_1_(...</td>\n",
       "    </tr>\n",
       "    <tr>\n",
       "      <th>4</th>\n",
       "      <td>1512</td>\n",
       "      <td>Kia Sorento 2.2 AT Premium 2021 \\n            ...</td>\n",
       "      <td>1.228 triệu</td>\n",
       "      <td>Kia</td>\n",
       "      <td>2021</td>\n",
       "      <td>Trắng</td>\n",
       "      <td>Trắng</td>\n",
       "      <td>Xe đã qua sử dụng</td>\n",
       "      <td>https://otoviethan.com.vn/uploads/img_3123_1_(...</td>\n",
       "    </tr>\n",
       "    <tr>\n",
       "      <th>5</th>\n",
       "      <td>1511</td>\n",
       "      <td>Toyota Avanza 1.3 MT 2019 \\n</td>\n",
       "      <td>438 triệu</td>\n",
       "      <td>Toyota</td>\n",
       "      <td>2019</td>\n",
       "      <td>Trắng</td>\n",
       "      <td>Trắng</td>\n",
       "      <td>Xe đã qua sử dụng</td>\n",
       "      <td>https://otoviethan.com.vn/uploads/img_3123_1_(...</td>\n",
       "    </tr>\n",
       "    <tr>\n",
       "      <th>6</th>\n",
       "      <td>1510</td>\n",
       "      <td>Mazda 3 1.5 AT Premium 2019 \\n</td>\n",
       "      <td>688 triệu</td>\n",
       "      <td>Mazda</td>\n",
       "      <td>2019</td>\n",
       "      <td>Đỏ</td>\n",
       "      <td>Đen</td>\n",
       "      <td>Xe đã qua sử dụng</td>\n",
       "      <td>https://otoviethan.com.vn/uploads/img_3123_1_(...</td>\n",
       "    </tr>\n",
       "    <tr>\n",
       "      <th>7</th>\n",
       "      <td>1508</td>\n",
       "      <td>Hyundai Tucson 2.0 AT bản Full 2022 \\n        ...</td>\n",
       "      <td>1.098 triệu</td>\n",
       "      <td>Hyundai</td>\n",
       "      <td>2022</td>\n",
       "      <td>Trắng</td>\n",
       "      <td>Đen</td>\n",
       "      <td>Xe đã qua sử dụng</td>\n",
       "      <td>https://otoviethan.com.vn/uploads/img_3123_1_(...</td>\n",
       "    </tr>\n",
       "    <tr>\n",
       "      <th>8</th>\n",
       "      <td>1507</td>\n",
       "      <td>Kia Morning 1.2 AT 2019 \\n</td>\n",
       "      <td>348 triệu</td>\n",
       "      <td>Kia</td>\n",
       "      <td>2019</td>\n",
       "      <td>Bạc</td>\n",
       "      <td>Trắng</td>\n",
       "      <td>Xe đã qua sử dụng</td>\n",
       "      <td>https://otoviethan.com.vn/uploads/img_3123_1_(...</td>\n",
       "    </tr>\n",
       "    <tr>\n",
       "      <th>9</th>\n",
       "      <td>1505</td>\n",
       "      <td>Mitsubishi Outlander 2.0 AT 2018 \\n           ...</td>\n",
       "      <td>688 triệu</td>\n",
       "      <td>Mitsubishi</td>\n",
       "      <td>2018</td>\n",
       "      <td>Trắng</td>\n",
       "      <td>Đen</td>\n",
       "      <td>Xe đã qua sử dụng</td>\n",
       "      <td>https://otoviethan.com.vn/uploads/img_3123_1_(...</td>\n",
       "    </tr>\n",
       "    <tr>\n",
       "      <th>10</th>\n",
       "      <td>1504</td>\n",
       "      <td>Hyundai Accent 1.4 MT bản Full 2021 \\n        ...</td>\n",
       "      <td>476 triệu</td>\n",
       "      <td>Hyundai</td>\n",
       "      <td>2021</td>\n",
       "      <td>Trắng</td>\n",
       "      <td>Trắng</td>\n",
       "      <td>Xe đã qua sử dụng</td>\n",
       "      <td>https://otoviethan.com.vn/uploads/img_3123_1_(...</td>\n",
       "    </tr>\n",
       "    <tr>\n",
       "      <th>11</th>\n",
       "      <td>1500</td>\n",
       "      <td>Suzuki XL7 1.5 AT GLX 2021 \\n</td>\n",
       "      <td>588 triệu</td>\n",
       "      <td>Suzuki</td>\n",
       "      <td>2021</td>\n",
       "      <td>Đỏ</td>\n",
       "      <td>Đen</td>\n",
       "      <td>Xe đã qua sử dụng</td>\n",
       "      <td>https://otoviethan.com.vn/uploads/img_3123_1_(...</td>\n",
       "    </tr>\n",
       "    <tr>\n",
       "      <th>12</th>\n",
       "      <td>1498</td>\n",
       "      <td>Kia Sorento 2.4 AT, 2WD GATH 2016 \\n          ...</td>\n",
       "      <td>618 triệu</td>\n",
       "      <td>Kia</td>\n",
       "      <td>2016</td>\n",
       "      <td>Ghi Vàng</td>\n",
       "      <td>Trắng</td>\n",
       "      <td>Xe đã qua sử dụng</td>\n",
       "      <td>https://otoviethan.com.vn/uploads/img_3123_1_(...</td>\n",
       "    </tr>\n",
       "    <tr>\n",
       "      <th>13</th>\n",
       "      <td>1495</td>\n",
       "      <td>Isuzu Mu-X 3.0 AT 2016 \\n</td>\n",
       "      <td>658 triệu</td>\n",
       "      <td>Isuzu</td>\n",
       "      <td>2016</td>\n",
       "      <td>Trắng</td>\n",
       "      <td>Đen</td>\n",
       "      <td>Xe đã qua sử dụng</td>\n",
       "      <td>https://otoviethan.com.vn/uploads/img_3123_1_(...</td>\n",
       "    </tr>\n",
       "    <tr>\n",
       "      <th>14</th>\n",
       "      <td>1493</td>\n",
       "      <td>Mazda 3 1.5 AT Premium 2019 \\n</td>\n",
       "      <td>688 triệu</td>\n",
       "      <td>Mazda</td>\n",
       "      <td>2019</td>\n",
       "      <td>Xám</td>\n",
       "      <td>Đen</td>\n",
       "      <td>Xe đã qua sử dụng</td>\n",
       "      <td>https://otoviethan.com.vn/uploads/img_3123_1_(...</td>\n",
       "    </tr>\n",
       "    <tr>\n",
       "      <th>15</th>\n",
       "      <td>1489</td>\n",
       "      <td>Kia Rondo 2.0 AT GATH 2016 \\n</td>\n",
       "      <td>496 triệu</td>\n",
       "      <td>Kia</td>\n",
       "      <td>2016</td>\n",
       "      <td>Bạc</td>\n",
       "      <td>Trắng</td>\n",
       "      <td>Xe đã qua sử dụng</td>\n",
       "      <td>https://otoviethan.com.vn/uploads/img_3123_1_(...</td>\n",
       "    </tr>\n",
       "    <tr>\n",
       "      <th>16</th>\n",
       "      <td>1488</td>\n",
       "      <td>Suzuki Swift 1.2 AT 2018 (Bản thiếu) \\n       ...</td>\n",
       "      <td>448 triệu</td>\n",
       "      <td>Suzuki</td>\n",
       "      <td>2018</td>\n",
       "      <td>Đỏ</td>\n",
       "      <td>Đen</td>\n",
       "      <td>Xe đã qua sử dụng</td>\n",
       "      <td>https://otoviethan.com.vn/uploads/img_3123_1_(...</td>\n",
       "    </tr>\n",
       "    <tr>\n",
       "      <th>17</th>\n",
       "      <td>1482</td>\n",
       "      <td>Hyundai Elantra 1.6 AT 2019 \\n</td>\n",
       "      <td>586 triệu</td>\n",
       "      <td>Hyundai</td>\n",
       "      <td>2019</td>\n",
       "      <td>Đen</td>\n",
       "      <td>Trắng</td>\n",
       "      <td>Xe đã qua sử dụng</td>\n",
       "      <td>https://otoviethan.com.vn/uploads/img_3123_1_(...</td>\n",
       "    </tr>\n",
       "    <tr>\n",
       "      <th>18</th>\n",
       "      <td>1480</td>\n",
       "      <td>Hyundai Grand i10 1.2 MT 2021 \\n              ...</td>\n",
       "      <td>368 triệu</td>\n",
       "      <td>Hyundai</td>\n",
       "      <td>2021</td>\n",
       "      <td>Trắng</td>\n",
       "      <td>Đen</td>\n",
       "      <td>Xe đã qua sử dụng</td>\n",
       "      <td>https://otoviethan.com.vn/uploads/img_3123_1_(...</td>\n",
       "    </tr>\n",
       "    <tr>\n",
       "      <th>19</th>\n",
       "      <td>1477</td>\n",
       "      <td>Toyota Vios 1.5 AT G 2020 \\n</td>\n",
       "      <td>518 triệu</td>\n",
       "      <td>Toyota</td>\n",
       "      <td>2020</td>\n",
       "      <td>Trắng</td>\n",
       "      <td>Đỏ</td>\n",
       "      <td>Xe đã qua sử dụng</td>\n",
       "      <td>https://otoviethan.com.vn/uploads/img_3123_1_(...</td>\n",
       "    </tr>\n",
       "    <tr>\n",
       "      <th>20</th>\n",
       "      <td>1461</td>\n",
       "      <td>Honda City 1.5 AT RS 2021 \\n</td>\n",
       "      <td>598 triệu</td>\n",
       "      <td>Honda</td>\n",
       "      <td>2021</td>\n",
       "      <td>Đen</td>\n",
       "      <td>Đen</td>\n",
       "      <td>Xe đã qua sử dụng</td>\n",
       "      <td>https://otoviethan.com.vn/uploads/img_3123_1_(...</td>\n",
       "    </tr>\n",
       "    <tr>\n",
       "      <th>21</th>\n",
       "      <td>1459</td>\n",
       "      <td>Ford Everest 2.0 AT Titanium 2019 \\n          ...</td>\n",
       "      <td>1.046 triệu</td>\n",
       "      <td>Ford</td>\n",
       "      <td>2019</td>\n",
       "      <td>Xám</td>\n",
       "      <td>Đen</td>\n",
       "      <td>Xe đã qua sử dụng</td>\n",
       "      <td>https://otoviethan.com.vn/uploads/img_3123_1_(...</td>\n",
       "    </tr>\n",
       "    <tr>\n",
       "      <th>22</th>\n",
       "      <td>1457</td>\n",
       "      <td>Hyundai Santa Fe 2.2 AT 2021 Cao Cấp \\n       ...</td>\n",
       "      <td>1.388 triệu</td>\n",
       "      <td>Hyundai</td>\n",
       "      <td>2021</td>\n",
       "      <td>Đỏ</td>\n",
       "      <td>Đen</td>\n",
       "      <td>Xe đã qua sử dụng</td>\n",
       "      <td>https://otoviethan.com.vn/uploads/img_3123_1_(...</td>\n",
       "    </tr>\n",
       "    <tr>\n",
       "      <th>23</th>\n",
       "      <td>1445</td>\n",
       "      <td>Kia Seltos 1.4 AT Premium 2020 \\n             ...</td>\n",
       "      <td>738 triệu</td>\n",
       "      <td>Kia</td>\n",
       "      <td>2020</td>\n",
       "      <td>Cam</td>\n",
       "      <td>Trắng</td>\n",
       "      <td>Xe đã qua sử dụng</td>\n",
       "      <td>https://otoviethan.com.vn/uploads/img_3123_1_(...</td>\n",
       "    </tr>\n",
       "    <tr>\n",
       "      <th>24</th>\n",
       "      <td>1444</td>\n",
       "      <td>Hyundai Santa Fe 2.4 AT Tiêu chuẩn 2020 \\n    ...</td>\n",
       "      <td>968 triệu</td>\n",
       "      <td>Hyundai</td>\n",
       "      <td>2020</td>\n",
       "      <td>Trắng</td>\n",
       "      <td>Đen</td>\n",
       "      <td>Xe đã qua sử dụng</td>\n",
       "      <td>https://otoviethan.com.vn/uploads/img_3123_1_(...</td>\n",
       "    </tr>\n",
       "    <tr>\n",
       "      <th>25</th>\n",
       "      <td>1441</td>\n",
       "      <td>Toyota Vios 1.5 AT bản E 2019 \\n              ...</td>\n",
       "      <td>478 triệu</td>\n",
       "      <td>Toyota</td>\n",
       "      <td>2019</td>\n",
       "      <td>Nâu Vàng</td>\n",
       "      <td>Trắng</td>\n",
       "      <td>Xe đã qua sử dụng</td>\n",
       "      <td>https://otoviethan.com.vn/uploads/img_3123_1_(...</td>\n",
       "    </tr>\n",
       "    <tr>\n",
       "      <th>26</th>\n",
       "      <td>1433</td>\n",
       "      <td>Mazda CX5 2.5 AT 2019 \\n</td>\n",
       "      <td>838 triệu</td>\n",
       "      <td>Mazda</td>\n",
       "      <td>2019</td>\n",
       "      <td>Trắng</td>\n",
       "      <td>Trắng</td>\n",
       "      <td>Xe đã qua sử dụng</td>\n",
       "      <td>https://otoviethan.com.vn/uploads/img_3123_1_(...</td>\n",
       "    </tr>\n",
       "    <tr>\n",
       "      <th>27</th>\n",
       "      <td>1432</td>\n",
       "      <td>Hyundai Santa Fe 2.2 AT 2021 (Cao Cấp) \\n     ...</td>\n",
       "      <td>1.418 triệu</td>\n",
       "      <td>Hyundai</td>\n",
       "      <td>2021</td>\n",
       "      <td>Trắng</td>\n",
       "      <td>Đen</td>\n",
       "      <td>Xe đã qua sử dụng</td>\n",
       "      <td>https://otoviethan.com.vn/uploads/img_3123_1_(...</td>\n",
       "    </tr>\n",
       "    <tr>\n",
       "      <th>28</th>\n",
       "      <td>1423</td>\n",
       "      <td>Kia Seltos 1.4 AT, Luxury 2020 \\n             ...</td>\n",
       "      <td>706 triệu</td>\n",
       "      <td>Kia</td>\n",
       "      <td>2020</td>\n",
       "      <td>Đỏ</td>\n",
       "      <td>Trắng</td>\n",
       "      <td>Xe đã qua sử dụng</td>\n",
       "      <td>https://otoviethan.com.vn/uploads/img_3123_1_(...</td>\n",
       "    </tr>\n",
       "    <tr>\n",
       "      <th>29</th>\n",
       "      <td>1404</td>\n",
       "      <td>Ford EcoSport 1.0 AT Ecoboost 2020 \\n         ...</td>\n",
       "      <td>598 triệu</td>\n",
       "      <td>Ford</td>\n",
       "      <td>2020</td>\n",
       "      <td>Trắng</td>\n",
       "      <td>Đen</td>\n",
       "      <td>Xe đã qua sử dụng</td>\n",
       "      <td>https://otoviethan.com.vn/uploads/img_3123_1_(...</td>\n",
       "    </tr>\n",
       "    <tr>\n",
       "      <th>30</th>\n",
       "      <td>1403</td>\n",
       "      <td>Hyundai Elantra 1.6 AT bản Turbo 2018 \\n      ...</td>\n",
       "      <td>606 triệu</td>\n",
       "      <td>Hyundai</td>\n",
       "      <td>2018</td>\n",
       "      <td>Đen</td>\n",
       "      <td>Đen</td>\n",
       "      <td>Xe đã qua sử dụng</td>\n",
       "      <td>https://otoviethan.com.vn/uploads/img_3123_1_(...</td>\n",
       "    </tr>\n",
       "    <tr>\n",
       "      <th>31</th>\n",
       "      <td>1384</td>\n",
       "      <td>Hyundai Santa Fe 2.4 AT, bản tiêu chuẩn 2021 \\...</td>\n",
       "      <td>1.028 triệu</td>\n",
       "      <td>Hyundai</td>\n",
       "      <td>2021</td>\n",
       "      <td>Trắng</td>\n",
       "      <td>Đen</td>\n",
       "      <td>Xe đã qua sử dụng</td>\n",
       "      <td>https://otoviethan.com.vn/uploads/img_3123_1_(...</td>\n",
       "    </tr>\n",
       "    <tr>\n",
       "      <th>32</th>\n",
       "      <td>1383</td>\n",
       "      <td>Mazda 6 2.0 AT Premium 2020 \\n</td>\n",
       "      <td>808 triệu</td>\n",
       "      <td>Mazda</td>\n",
       "      <td>2020</td>\n",
       "      <td>Xám</td>\n",
       "      <td>Đen</td>\n",
       "      <td>Xe đã qua sử dụng</td>\n",
       "      <td>https://otoviethan.com.vn/uploads/img_3123_1_(...</td>\n",
       "    </tr>\n",
       "    <tr>\n",
       "      <th>33</th>\n",
       "      <td>1379</td>\n",
       "      <td>Honda CRV 1.5 AT bản G 2020 \\n</td>\n",
       "      <td>918 triệu</td>\n",
       "      <td>Honda</td>\n",
       "      <td>2020</td>\n",
       "      <td>Đỏ</td>\n",
       "      <td>Đen</td>\n",
       "      <td>Xe đã qua sử dụng</td>\n",
       "      <td>https://otoviethan.com.vn/uploads/img_3123_1_(...</td>\n",
       "    </tr>\n",
       "    <tr>\n",
       "      <th>34</th>\n",
       "      <td>1374</td>\n",
       "      <td>Honda CRV 1.5AT bản L 2020 \\n</td>\n",
       "      <td>1.008 triệu</td>\n",
       "      <td>Honda</td>\n",
       "      <td>2020</td>\n",
       "      <td>Đỏ</td>\n",
       "      <td>Đen</td>\n",
       "      <td>Xe đã qua sử dụng</td>\n",
       "      <td>https://otoviethan.com.vn/uploads/img_3123_1_(...</td>\n",
       "    </tr>\n",
       "    <tr>\n",
       "      <th>35</th>\n",
       "      <td>1346</td>\n",
       "      <td>Kia Seltos 1.4 AT Premium 2021 \\n             ...</td>\n",
       "      <td>768 triệu</td>\n",
       "      <td>Chưa cập nhật</td>\n",
       "      <td>2021</td>\n",
       "      <td>Trắng</td>\n",
       "      <td>Trắng</td>\n",
       "      <td>Xe đã qua sử dụng</td>\n",
       "      <td>https://otoviethan.com.vn/uploads/img_3123_1_(...</td>\n",
       "    </tr>\n",
       "    <tr>\n",
       "      <th>36</th>\n",
       "      <td>1333</td>\n",
       "      <td>Chevrolet Captiva 2.4 AT LTZ 2018 \\n          ...</td>\n",
       "      <td>598 triệu</td>\n",
       "      <td>Chevrolet</td>\n",
       "      <td>2018</td>\n",
       "      <td>Nâu</td>\n",
       "      <td>Trắng</td>\n",
       "      <td>Xe đã qua sử dụng</td>\n",
       "      <td>https://otoviethan.com.vn/uploads/img_3123_1_(...</td>\n",
       "    </tr>\n",
       "  </tbody>\n",
       "</table>\n",
       "</div>"
      ],
      "text/plain": [
       "   Mã xe                                             Tên xe          Giá  \\\n",
       "0   1516  Hyundai Santa Fe 2.4 AT 2021 \\n                    1.166 triệu   \n",
       "1   1515     Mazda CX5 2.0 AT 2WD 2015 \\n                      566 triệu   \n",
       "2   1514  Kia Soluto 1.4 MT bản Full 2019 \\n            ...    366 triệu   \n",
       "3   1513  Hyundai Accent 1.4 MT Full 2021 \\n            ...    468 triệu   \n",
       "4   1512  Kia Sorento 2.2 AT Premium 2021 \\n            ...  1.228 triệu   \n",
       "5   1511     Toyota Avanza 1.3 MT 2019 \\n                      438 triệu   \n",
       "6   1510   Mazda 3 1.5 AT Premium 2019 \\n                      688 triệu   \n",
       "7   1508  Hyundai Tucson 2.0 AT bản Full 2022 \\n        ...  1.098 triệu   \n",
       "8   1507       Kia Morning 1.2 AT 2019 \\n                      348 triệu   \n",
       "9   1505  Mitsubishi Outlander 2.0 AT 2018 \\n           ...    688 triệu   \n",
       "10  1504  Hyundai Accent 1.4 MT bản Full 2021 \\n        ...    476 triệu   \n",
       "11  1500    Suzuki XL7 1.5 AT GLX 2021 \\n                      588 triệu   \n",
       "12  1498  Kia Sorento 2.4 AT, 2WD GATH 2016 \\n          ...    618 triệu   \n",
       "13  1495        Isuzu Mu-X 3.0 AT 2016 \\n                      658 triệu   \n",
       "14  1493   Mazda 3 1.5 AT Premium 2019 \\n                      688 triệu   \n",
       "15  1489    Kia Rondo 2.0 AT GATH 2016 \\n                      496 triệu   \n",
       "16  1488  Suzuki Swift 1.2 AT 2018 (Bản thiếu) \\n       ...    448 triệu   \n",
       "17  1482   Hyundai Elantra 1.6 AT 2019 \\n                      586 triệu   \n",
       "18  1480  Hyundai Grand i10 1.2 MT 2021 \\n              ...    368 triệu   \n",
       "19  1477     Toyota Vios 1.5 AT G 2020 \\n                      518 triệu   \n",
       "20  1461     Honda City 1.5 AT RS 2021 \\n                      598 triệu   \n",
       "21  1459  Ford Everest 2.0 AT Titanium 2019 \\n          ...  1.046 triệu   \n",
       "22  1457  Hyundai Santa Fe 2.2 AT 2021 Cao Cấp \\n       ...  1.388 triệu   \n",
       "23  1445  Kia Seltos 1.4 AT Premium 2020 \\n             ...    738 triệu   \n",
       "24  1444  Hyundai Santa Fe 2.4 AT Tiêu chuẩn 2020 \\n    ...    968 triệu   \n",
       "25  1441  Toyota Vios 1.5 AT bản E 2019 \\n              ...    478 triệu   \n",
       "26  1433         Mazda CX5 2.5 AT 2019 \\n                      838 triệu   \n",
       "27  1432  Hyundai Santa Fe 2.2 AT 2021 (Cao Cấp) \\n     ...  1.418 triệu   \n",
       "28  1423  Kia Seltos 1.4 AT, Luxury 2020 \\n             ...    706 triệu   \n",
       "29  1404  Ford EcoSport 1.0 AT Ecoboost 2020 \\n         ...    598 triệu   \n",
       "30  1403  Hyundai Elantra 1.6 AT bản Turbo 2018 \\n      ...    606 triệu   \n",
       "31  1384  Hyundai Santa Fe 2.4 AT, bản tiêu chuẩn 2021 \\...  1.028 triệu   \n",
       "32  1383   Mazda 6 2.0 AT Premium 2020 \\n                      808 triệu   \n",
       "33  1379   Honda CRV 1.5 AT bản G 2020 \\n                      918 triệu   \n",
       "34  1374    Honda CRV 1.5AT bản L 2020 \\n                    1.008 triệu   \n",
       "35  1346  Kia Seltos 1.4 AT Premium 2021 \\n             ...    768 triệu   \n",
       "36  1333  Chevrolet Captiva 2.4 AT LTZ 2018 \\n          ...    598 triệu   \n",
       "\n",
       "          Hãng xe Năm sản xuất    Màu xe Màu nội thất         Tình trạng  \\\n",
       "0         Hyundai         2021       Đen          Đen  Xe đã qua sử dụng   \n",
       "1           Mazda         2015     Trắng          Đen  Xe đã qua sử dụng   \n",
       "2             Kia         2019      Xanh        Trắng  Xe đã qua sử dụng   \n",
       "3         Hyundai         2021       Đen        Trắng  Xe đã qua sử dụng   \n",
       "4             Kia         2021     Trắng        Trắng  Xe đã qua sử dụng   \n",
       "5          Toyota         2019     Trắng        Trắng  Xe đã qua sử dụng   \n",
       "6           Mazda         2019        Đỏ          Đen  Xe đã qua sử dụng   \n",
       "7         Hyundai         2022     Trắng          Đen  Xe đã qua sử dụng   \n",
       "8             Kia         2019       Bạc        Trắng  Xe đã qua sử dụng   \n",
       "9      Mitsubishi         2018     Trắng          Đen  Xe đã qua sử dụng   \n",
       "10        Hyundai         2021     Trắng        Trắng  Xe đã qua sử dụng   \n",
       "11         Suzuki         2021        Đỏ          Đen  Xe đã qua sử dụng   \n",
       "12            Kia         2016  Ghi Vàng        Trắng  Xe đã qua sử dụng   \n",
       "13          Isuzu         2016     Trắng          Đen  Xe đã qua sử dụng   \n",
       "14          Mazda         2019       Xám          Đen  Xe đã qua sử dụng   \n",
       "15            Kia         2016       Bạc        Trắng  Xe đã qua sử dụng   \n",
       "16         Suzuki         2018        Đỏ          Đen  Xe đã qua sử dụng   \n",
       "17        Hyundai         2019       Đen        Trắng  Xe đã qua sử dụng   \n",
       "18        Hyundai         2021     Trắng          Đen  Xe đã qua sử dụng   \n",
       "19         Toyota         2020     Trắng           Đỏ  Xe đã qua sử dụng   \n",
       "20          Honda         2021       Đen          Đen  Xe đã qua sử dụng   \n",
       "21           Ford         2019       Xám          Đen  Xe đã qua sử dụng   \n",
       "22        Hyundai         2021        Đỏ          Đen  Xe đã qua sử dụng   \n",
       "23            Kia         2020       Cam        Trắng  Xe đã qua sử dụng   \n",
       "24        Hyundai         2020     Trắng          Đen  Xe đã qua sử dụng   \n",
       "25         Toyota         2019  Nâu Vàng        Trắng  Xe đã qua sử dụng   \n",
       "26          Mazda         2019     Trắng        Trắng  Xe đã qua sử dụng   \n",
       "27        Hyundai         2021     Trắng          Đen  Xe đã qua sử dụng   \n",
       "28            Kia         2020        Đỏ        Trắng  Xe đã qua sử dụng   \n",
       "29           Ford         2020     Trắng          Đen  Xe đã qua sử dụng   \n",
       "30        Hyundai         2018       Đen          Đen  Xe đã qua sử dụng   \n",
       "31        Hyundai         2021     Trắng          Đen  Xe đã qua sử dụng   \n",
       "32          Mazda         2020       Xám          Đen  Xe đã qua sử dụng   \n",
       "33          Honda         2020        Đỏ          Đen  Xe đã qua sử dụng   \n",
       "34          Honda         2020        Đỏ          Đen  Xe đã qua sử dụng   \n",
       "35  Chưa cập nhật         2021     Trắng        Trắng  Xe đã qua sử dụng   \n",
       "36      Chevrolet         2018       Nâu        Trắng  Xe đã qua sử dụng   \n",
       "\n",
       "                                                  Ảnh  \n",
       "0   https://otoviethan.com.vn/uploads/img_3123_1_(...  \n",
       "1   https://otoviethan.com.vn/uploads/img_3123_1_(...  \n",
       "2   https://otoviethan.com.vn/uploads/img_3123_1_(...  \n",
       "3   https://otoviethan.com.vn/uploads/img_3123_1_(...  \n",
       "4   https://otoviethan.com.vn/uploads/img_3123_1_(...  \n",
       "5   https://otoviethan.com.vn/uploads/img_3123_1_(...  \n",
       "6   https://otoviethan.com.vn/uploads/img_3123_1_(...  \n",
       "7   https://otoviethan.com.vn/uploads/img_3123_1_(...  \n",
       "8   https://otoviethan.com.vn/uploads/img_3123_1_(...  \n",
       "9   https://otoviethan.com.vn/uploads/img_3123_1_(...  \n",
       "10  https://otoviethan.com.vn/uploads/img_3123_1_(...  \n",
       "11  https://otoviethan.com.vn/uploads/img_3123_1_(...  \n",
       "12  https://otoviethan.com.vn/uploads/img_3123_1_(...  \n",
       "13  https://otoviethan.com.vn/uploads/img_3123_1_(...  \n",
       "14  https://otoviethan.com.vn/uploads/img_3123_1_(...  \n",
       "15  https://otoviethan.com.vn/uploads/img_3123_1_(...  \n",
       "16  https://otoviethan.com.vn/uploads/img_3123_1_(...  \n",
       "17  https://otoviethan.com.vn/uploads/img_3123_1_(...  \n",
       "18  https://otoviethan.com.vn/uploads/img_3123_1_(...  \n",
       "19  https://otoviethan.com.vn/uploads/img_3123_1_(...  \n",
       "20  https://otoviethan.com.vn/uploads/img_3123_1_(...  \n",
       "21  https://otoviethan.com.vn/uploads/img_3123_1_(...  \n",
       "22  https://otoviethan.com.vn/uploads/img_3123_1_(...  \n",
       "23  https://otoviethan.com.vn/uploads/img_3123_1_(...  \n",
       "24  https://otoviethan.com.vn/uploads/img_3123_1_(...  \n",
       "25  https://otoviethan.com.vn/uploads/img_3123_1_(...  \n",
       "26  https://otoviethan.com.vn/uploads/img_3123_1_(...  \n",
       "27  https://otoviethan.com.vn/uploads/img_3123_1_(...  \n",
       "28  https://otoviethan.com.vn/uploads/img_3123_1_(...  \n",
       "29  https://otoviethan.com.vn/uploads/img_3123_1_(...  \n",
       "30  https://otoviethan.com.vn/uploads/img_3123_1_(...  \n",
       "31  https://otoviethan.com.vn/uploads/img_3123_1_(...  \n",
       "32  https://otoviethan.com.vn/uploads/img_3123_1_(...  \n",
       "33  https://otoviethan.com.vn/uploads/img_3123_1_(...  \n",
       "34  https://otoviethan.com.vn/uploads/img_3123_1_(...  \n",
       "35  https://otoviethan.com.vn/uploads/img_3123_1_(...  \n",
       "36  https://otoviethan.com.vn/uploads/img_3123_1_(...  "
      ]
     },
     "execution_count": 35,
     "metadata": {},
     "output_type": "execute_result"
    }
   ],
   "source": [
    "car_dealer"
   ]
  },
  {
   "cell_type": "markdown",
   "metadata": {},
   "source": [
    "### Xuất ra file .xlsx"
   ]
  },
  {
   "cell_type": "code",
   "execution_count": 37,
   "metadata": {},
   "outputs": [],
   "source": [
    "car_dealer.to_excel('car_data.xlsx', index=False)"
   ]
  }
 ],
 "metadata": {
  "kernelspec": {
   "display_name": "Python 3.10.5 64-bit",
   "language": "python",
   "name": "python3"
  },
  "language_info": {
   "codemirror_mode": {
    "name": "ipython",
    "version": 3
   },
   "file_extension": ".py",
   "mimetype": "text/x-python",
   "name": "python",
   "nbconvert_exporter": "python",
   "pygments_lexer": "ipython3",
   "version": "3.10.5"
  },
  "vscode": {
   "interpreter": {
    "hash": "02192d05eccf1661b63543d2d596a99655f0260a50272862ecb21964468f3128"
   }
  }
 },
 "nbformat": 4,
 "nbformat_minor": 4
}
